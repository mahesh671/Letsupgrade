{
  "nbformat": 4,
  "nbformat_minor": 0,
  "metadata": {
    "colab": {
      "name": "Weather_report_api.ipynb",
      "provenance": [],
      "authorship_tag": "ABX9TyMCbiGvuQF8BwFpxY6bbmGd",
      "include_colab_link": true
    },
    "kernelspec": {
      "name": "python3",
      "display_name": "Python 3"
    },
    "language_info": {
      "name": "python"
    }
  },
  "cells": [
    {
      "cell_type": "markdown",
      "metadata": {
        "id": "view-in-github",
        "colab_type": "text"
      },
      "source": [
        "<a href=\"https://colab.research.google.com/github/mahesh671/Letsupgrade/blob/main/Python_essentials/Project/Weather_report_api.ipynb\" target=\"_parent\"><img src=\"https://colab.research.google.com/assets/colab-badge.svg\" alt=\"Open In Colab\"/></a>"
      ]
    },
    {
      "cell_type": "markdown",
      "metadata": {
        "id": "RJ5jWLqNzfm2"
      },
      "source": [
        "#**Weather report Project**\n",
        "\n",
        "**ASSIGNMENT -6**\n",
        "\n",
        "NAME:***PADMANABHUNI VEERA VENKATA MAHESH KUMAR***\n",
        "\n",
        "GMAIL : maheshkumarpadmanabhuni498@gmail.com"
      ]
    },
    {
      "cell_type": "code",
      "metadata": {
        "colab": {
          "base_uri": "https://localhost:8080/"
        },
        "id": "7b4rY3OpVloJ",
        "outputId": "79f9ca05-b5a0-4334-8063-a5387d29d276"
      },
      "source": [
        "!pip install pyowm"
      ],
      "execution_count": 2,
      "outputs": [
        {
          "output_type": "stream",
          "text": [
            "Collecting pyowm\n",
            "\u001b[?25l  Downloading https://files.pythonhosted.org/packages/7b/7d/ed92151b2d1e0f425f18bf4d686bc5530b47e4c853c0a814ff5d8c416259/pyowm-3.2.0-py3-none-any.whl (3.1MB)\n",
            "\u001b[K     |████████████████████████████████| 3.1MB 8.4MB/s \n",
            "\u001b[?25hCollecting geojson<3,>=2.3.0\n",
            "  Downloading https://files.pythonhosted.org/packages/e4/8d/9e28e9af95739e6d2d2f8d4bef0b3432da40b7c3588fbad4298c1be09e48/geojson-2.5.0-py2.py3-none-any.whl\n",
            "Requirement already satisfied: requests[socks] in /usr/local/lib/python3.7/dist-packages (from pyowm) (2.23.0)\n",
            "Requirement already satisfied: PySocks<2,>=1.7.1 in /usr/local/lib/python3.7/dist-packages (from pyowm) (1.7.1)\n",
            "Requirement already satisfied: certifi>=2017.4.17 in /usr/local/lib/python3.7/dist-packages (from requests[socks]->pyowm) (2021.5.30)\n",
            "Requirement already satisfied: idna<3,>=2.5 in /usr/local/lib/python3.7/dist-packages (from requests[socks]->pyowm) (2.10)\n",
            "Requirement already satisfied: chardet<4,>=3.0.2 in /usr/local/lib/python3.7/dist-packages (from requests[socks]->pyowm) (3.0.4)\n",
            "Requirement already satisfied: urllib3!=1.25.0,!=1.25.1,<1.26,>=1.21.1 in /usr/local/lib/python3.7/dist-packages (from requests[socks]->pyowm) (1.24.3)\n",
            "Installing collected packages: geojson, pyowm\n",
            "Successfully installed geojson-2.5.0 pyowm-3.2.0\n"
          ],
          "name": "stdout"
        }
      ]
    },
    {
      "cell_type": "code",
      "metadata": {
        "id": "UyEecv6lkRbA"
      },
      "source": [
        "import pyowm \n",
        "from pyowm.utils import config\n",
        "from pyowm.utils import timestamps"
      ],
      "execution_count": 3,
      "outputs": []
    },
    {
      "cell_type": "code",
      "metadata": {
        "id": "PjzfYvVOkYu1",
        "colab": {
          "base_uri": "https://localhost:8080/"
        },
        "outputId": "310e1949-f9f7-41dc-c3d5-468fc43052e7"
      },
      "source": [
        "api=\"aa6539a828c71e25be4fa2bb5b600de2\"\n",
        "owm = pyowm.OWM(api)\n",
        "mgr = owm.weather_manager()\n",
        "city=input(\"Enter your city name: \")\n",
        "observation = mgr.weather_at_place(city)\n",
        "w = observation.weather\n",
        "print(f'Detailed status of Weather is: {w.detailed_status}')\n",
        "temp=w.temperature(unit='celsius')\n",
        "print(f'Temperature :{temp[\"temp\"]} degree celsius \\n Max Temperatue : {temp[\"temp_max\"]} degree celisus \\n Min Temperatue : {temp[\"temp_min\"]} degree celisus')\n",
        "print(f'Humidty : {w.humidity}')\n",
        "print(f'rain fallen : {w.rain[\"1h\"]} mms')\n",
        "wind_speed= w.wind()\n",
        "print(f'Wind Speed : {wind_speed[\"speed\"]}m/sec')\n",
        "\n",
        "\n",
        "\n"
      ],
      "execution_count": 18,
      "outputs": [
        {
          "output_type": "stream",
          "text": [
            "Enter your city name: addanki\n",
            "Detailed status of Weather is: heavy intensity rain\n",
            "Temperature :29.73 degree celsius \n",
            " Max Temperatue : 29.73 degree celisus \n",
            " Min Temperatue : 29.73 degree celisus\n",
            "Humidty : 61\n",
            "rain fallen : 4.21 mms\n",
            "Wind Speed : 4.82m/sec\n"
          ],
          "name": "stdout"
        }
      ]
    }
  ]
}