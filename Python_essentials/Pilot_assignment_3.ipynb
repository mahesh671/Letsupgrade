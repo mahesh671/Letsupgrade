{
  "nbformat": 4,
  "nbformat_minor": 0,
  "metadata": {
    "colab": {
      "name": "Pilot assignment-3.ipynb",
      "provenance": [],
      "authorship_tag": "ABX9TyOiAaJ+O3NRt03P1bEIGjhd",
      "include_colab_link": true
    },
    "kernelspec": {
      "name": "python3",
      "display_name": "Python 3"
    },
    "language_info": {
      "name": "python"
    }
  },
  "cells": [
    {
      "cell_type": "markdown",
      "metadata": {
        "id": "view-in-github",
        "colab_type": "text"
      },
      "source": [
        "<a href=\"https://colab.research.google.com/github/mahesh671/Letsupgrade/blob/main/Python_essentials/Pilot_assignment_3.ipynb\" target=\"_parent\"><img src=\"https://colab.research.google.com/assets/colab-badge.svg\" alt=\"Open In Colab\"/></a>"
      ]
    },
    {
      "cell_type": "markdown",
      "metadata": {
        "id": "o1qQKWS4tAmr"
      },
      "source": [
        "**ASSIASSIGNMENT -3**\n",
        "\n",
        "NAME:***PADMANABHUNI VEERA VENKATA MAHESH KUMAR***\n",
        "\n",
        "GMAIL : maheshkumarpadmanabhuni498@gmail.com"
      ]
    },
    {
      "cell_type": "code",
      "metadata": {
        "colab": {
          "base_uri": "https://localhost:8080/"
        },
        "id": "L_qIgdJ4xU1k",
        "outputId": "94ea7a54-ccb1-436c-f699-a8efc113f8da"
      },
      "source": [
        "height=int(input(\"Enter present height of plane: \"))\n",
        "if height<=1000:\n",
        "  print(\"Safe to land\")\n",
        "elif height<=5000:\n",
        "  print(\"Bring down to 1000\")\n",
        "else:\n",
        "  print(\"Turn around\")\n"
      ],
      "execution_count": null,
      "outputs": [
        {
          "output_type": "stream",
          "text": [
            "Enter present height of plane: 5000\n",
            "Bring down to 1000\n"
          ],
          "name": "stdout"
        }
      ]
    },
    {
      "cell_type": "code",
      "metadata": {
        "id": "78Q5v5gSysuK"
      },
      "source": [
        ""
      ],
      "execution_count": null,
      "outputs": []
    }
  ]
}