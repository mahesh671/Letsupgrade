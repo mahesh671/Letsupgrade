{
  "nbformat": 4,
  "nbformat_minor": 0,
  "metadata": {
    "colab": {
      "name": "Luckydraw.ipynb",
      "provenance": [],
      "collapsed_sections": [],
      "authorship_tag": "ABX9TyNveSSlXMO6a1e+qW5blaGn",
      "include_colab_link": true
    },
    "kernelspec": {
      "name": "python3",
      "display_name": "Python 3"
    },
    "language_info": {
      "name": "python"
    }
  },
  "cells": [
    {
      "cell_type": "markdown",
      "metadata": {
        "id": "view-in-github",
        "colab_type": "text"
      },
      "source": [
        "<a href=\"https://colab.research.google.com/github/mahesh671/Letsupgrade/blob/main/Python_essentials/Luckydraw.ipynb\" target=\"_parent\"><img src=\"https://colab.research.google.com/assets/colab-badge.svg\" alt=\"Open In Colab\"/></a>"
      ]
    },
    {
      "cell_type": "markdown",
      "metadata": {
        "id": "ir7lRmMKvULy"
      },
      "source": [
        "**ASSIGNMENT**\n",
        "\n",
        "NAME:***PADMANABHUNI VEERA VENKATA MAHESH KUMAR***\n",
        "\n",
        "GMAIL : maheshkumarpadmanabhuni498@gmail.com"
      ]
    },
    {
      "cell_type": "code",
      "metadata": {
        "id": "RDz38iXfaosi",
        "colab": {
          "base_uri": "https://localhost:8080/"
        },
        "outputId": "7cf152ad-ac86-415c-bf43-a498148dcc18"
      },
      "source": [
        "import random as r\n",
        "maxP=int(input(\"Enter no of participants: \"))\n",
        "Part=[x for x in input(\"names with spaces counted as 1 participant: \").split()[:maxP]]\n",
        "ran=r.randint(0, maxP-1) \n",
        "print(\"winner of lucky draw:\",Part[ran])"
      ],
      "execution_count": null,
      "outputs": [
        {
          "output_type": "stream",
          "text": [
            "Enter no of participants: 2\n",
            "names with spaces counted as 1 participant: mahesh kumar charitha\n",
            "winner of lucky draw: kumar\n"
          ],
          "name": "stdout"
        }
      ]
    },
    {
      "cell_type": "code",
      "metadata": {
        "id": "3NX1DK2qsa-Z"
      },
      "source": [
        ""
      ],
      "execution_count": null,
      "outputs": []
    }
  ]
}