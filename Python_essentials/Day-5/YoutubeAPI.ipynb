{
  "nbformat": 4,
  "nbformat_minor": 0,
  "metadata": {
    "colab": {
      "name": "YoutubeAPI.ipynb",
      "provenance": [],
      "collapsed_sections": [],
      "authorship_tag": "ABX9TyPPd/L4P39XL2UQzWFIEFQA",
      "include_colab_link": true
    },
    "kernelspec": {
      "name": "python3",
      "display_name": "Python 3"
    },
    "language_info": {
      "name": "python"
    }
  },
  "cells": [
    {
      "cell_type": "markdown",
      "metadata": {
        "id": "view-in-github",
        "colab_type": "text"
      },
      "source": [
        "<a href=\"https://colab.research.google.com/github/mahesh671/Letsupgrade/blob/main/Python_essentials/Day-5/YoutubeAPI.ipynb\" target=\"_parent\"><img src=\"https://colab.research.google.com/assets/colab-badge.svg\" alt=\"Open In Colab\"/></a>"
      ]
    },
    {
      "cell_type": "markdown",
      "metadata": {
        "id": "IOA9OXPTyPhd"
      },
      "source": [
        "**ASSIGNMENT -5**\n",
        "\n",
        "NAME : ***PADMANABHUNI VEERA VENKATA MAHESH KUMAR***\n",
        "\n",
        "GMAIL : maheshkumarpadmanabhuni498@gmail.com"
      ]
    },
    {
      "cell_type": "code",
      "metadata": {
        "colab": {
          "base_uri": "https://localhost:8080/"
        },
        "id": "9f1q9ETeDoXw",
        "outputId": "c32e251e-ba3d-44fe-abda-4147b7791218"
      },
      "source": [
        "!pip install pytube"
      ],
      "execution_count": null,
      "outputs": [
        {
          "output_type": "stream",
          "text": [
            "Collecting pytube\n",
            "\u001b[?25l  Downloading https://files.pythonhosted.org/packages/2f/b3/79ff390d742181ee52d61ed9ae973a5a66d90d648751dbdab938de31da98/pytube-10.8.5-py3-none-any.whl (46kB)\n",
            "\r\u001b[K     |███████                         | 10kB 15.2MB/s eta 0:00:01\r\u001b[K     |██████████████                  | 20kB 11.2MB/s eta 0:00:01\r\u001b[K     |█████████████████████           | 30kB 9.1MB/s eta 0:00:01\r\u001b[K     |████████████████████████████    | 40kB 8.4MB/s eta 0:00:01\r\u001b[K     |████████████████████████████████| 51kB 3.0MB/s \n",
            "\u001b[?25hInstalling collected packages: pytube\n",
            "Successfully installed pytube-10.8.5\n"
          ],
          "name": "stdout"
        }
      ]
    },
    {
      "cell_type": "code",
      "metadata": {
        "id": "gbBrZWcUDwtd"
      },
      "source": [
        "from pytube import YouTube"
      ],
      "execution_count": null,
      "outputs": []
    },
    {
      "cell_type": "code",
      "metadata": {
        "colab": {
          "base_uri": "https://localhost:8080/"
        },
        "id": "WWOiwZPID3Fz",
        "outputId": "705a6ea0-eb5c-44e8-9a05-e895ace9eafb"
      },
      "source": [
        "url =input(\"Enter url of the youtube video\")\n",
        "myvid=YouTube(url)\n",
        "print(\"Details of the video as follows\")\n",
        "print(\"Title: \",myvid.title)\n",
        "print(\"Thumbnail url:\",myvid.thumbnail_url)\n",
        "print(\"If you wanna download enter the following numbers:\\n1.Highest resolution\\n2.lowest resolution\\n3.only audio\")\n",
        "choice= int(input(\"Enter your choice: \"))\n",
        "streams = myvid.streams\n",
        "if choice==1:\n",
        "  streams.get_highest_resolution().download()\n",
        "elif choice==2:\n",
        "  streams.get_lowest_resolution().download()\n",
        "elif choice==3:\n",
        "  streams.get_audio_only().download()\n",
        "\n"
      ],
      "execution_count": null,
      "outputs": [
        {
          "output_type": "stream",
          "text": [
            "Enter url of the youtube videohttps://www.youtube.com/watch?v=Hl99qTj6HWw\n",
            "Details of the video as follows\n",
            "Title:  Download Youtube Video using Pytube || Python for Beginners || Python || Hindi/English\n",
            "Thumbnail url: https://i.ytimg.com/vi/Hl99qTj6HWw/sddefault.jpg\n",
            "If you wanna download enter the following numbers:\n",
            "1.Highest resolution\n",
            "2.lowest resolution\n",
            "3.only audio\n",
            "Enter your choice: 3\n"
          ],
          "name": "stdout"
        }
      ]
    },
    {
      "cell_type": "code",
      "metadata": {
        "id": "qVohGopznBuw"
      },
      "source": [
        ""
      ],
      "execution_count": null,
      "outputs": []
    }
  ]
}