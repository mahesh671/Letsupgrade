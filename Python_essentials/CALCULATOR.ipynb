{
  "nbformat": 4,
  "nbformat_minor": 0,
  "metadata": {
    "colab": {
      "name": "CALCULATOR.ipynb",
      "provenance": [],
      "authorship_tag": "ABX9TyP8G7AF/9bAbeWc9WfOqXpM",
      "include_colab_link": true
    },
    "kernelspec": {
      "name": "python3",
      "display_name": "Python 3"
    },
    "language_info": {
      "name": "python"
    }
  },
  "cells": [
    {
      "cell_type": "markdown",
      "metadata": {
        "id": "view-in-github",
        "colab_type": "text"
      },
      "source": [
        "<a href=\"https://colab.research.google.com/github/mahesh671/Letsupgrade/blob/main/Python_essentials/CALCULATOR.ipynb\" target=\"_parent\"><img src=\"https://colab.research.google.com/assets/colab-badge.svg\" alt=\"Open In Colab\"/></a>"
      ]
    },
    {
      "cell_type": "markdown",
      "metadata": {
        "id": "S-1geOdbxNvR"
      },
      "source": [
        "**ASSIGNMENT -1**\n",
        "\n",
        "NAME : ***PADMANABHUNI VEERA VENKATA MAHESH KUMAR***\n",
        "\n",
        "GMAIL : maheshkumarpadmanabhuni498@gmail.com"
      ]
    },
    {
      "cell_type": "code",
      "metadata": {
        "colab": {
          "base_uri": "https://localhost:8080/"
        },
        "id": "LBzR-RprZijn",
        "outputId": "3b4ccd5e-4e8c-49d1-a8b8-15a45de6cf2a"
      },
      "source": [
        "a=int(input(\"Enter the 1st number\"))\n",
        "b=int(input(\"Enter the 2nd number\"))\n",
        "addition= a+b\n",
        "subtraction= a-b\n",
        "multiplication= a*b\n",
        "division=a/b\n",
        "intdivision=a//b\n",
        "remainder=a%b\n",
        "print(addition,subtraction,multiplication,division,intdivision,remainder,sep=\"\\n\")"
      ],
      "execution_count": null,
      "outputs": [
        {
          "output_type": "stream",
          "text": [
            "Enter the 1st number4\n",
            "Enter the 2nd number5\n",
            "9\n",
            "-1\n",
            "20\n",
            "0.8\n",
            "0\n",
            "4\n"
          ],
          "name": "stdout"
        }
      ]
    }
  ]
}