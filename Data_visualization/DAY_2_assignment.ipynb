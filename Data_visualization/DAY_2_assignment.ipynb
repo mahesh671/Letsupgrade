{
  "nbformat": 4,
  "nbformat_minor": 0,
  "metadata": {
    "colab": {
      "name": "DAY-2 assignment.ipynb",
      "provenance": [],
      "authorship_tag": "ABX9TyMtDdY8w8S6sluAH8qUnwQl",
      "include_colab_link": true
    },
    "kernelspec": {
      "name": "python3",
      "display_name": "Python 3"
    },
    "language_info": {
      "name": "python"
    }
  },
  "cells": [
    {
      "cell_type": "markdown",
      "metadata": {
        "id": "view-in-github",
        "colab_type": "text"
      },
      "source": [
        "<a href=\"https://colab.research.google.com/github/mahesh671/Letsupgrade/blob/main/Data_visualization/DAY_2_assignment.ipynb\" target=\"_parent\"><img src=\"https://colab.research.google.com/assets/colab-badge.svg\" alt=\"Open In Colab\"/></a>"
      ]
    },
    {
      "cell_type": "markdown",
      "metadata": {
        "id": "rbWFf5psnO_i"
      },
      "source": [
        "\n",
        "**Day 2 assignment**\n",
        "\n",
        "Name:- Padmanabhuni veera venkata Mahesh kumar \n",
        "\n",
        "Email:- maheshkumarpadmanabhuni498@gmail.com \n",
        "\n",
        "date:- 06/07/2021\n",
        "\n",
        "**Assignment 2**"
      ]
    },
    {
      "cell_type": "code",
      "metadata": {
        "id": "Dh7qih3dnCnF"
      },
      "source": [
        "import numpy as np\n",
        "import pandas as pd \n",
        "import matplotlib as mpl\n",
        "import matplotlib.pyplot as plt\n",
        "import seaborn as sns\n",
        "%matplotlib inline\n",
        "from numpy.random import randn , randint , uniform , sample"
      ],
      "execution_count": 1,
      "outputs": []
    },
    {
      "cell_type": "code",
      "metadata": {
        "colab": {
          "base_uri": "https://localhost:8080/",
          "height": 357
        },
        "id": "ll71LDQwnMjA",
        "outputId": "d4b9009d-1abb-4833-ae7a-d6ccf332d2dd"
      },
      "source": [
        "df=pd.DataFrame(randn(10,4), columns=['a','b','c','d'])\n",
        "df"
      ],
      "execution_count": 3,
      "outputs": [
        {
          "output_type": "execute_result",
          "data": {
            "text/html": [
              "<div>\n",
              "<style scoped>\n",
              "    .dataframe tbody tr th:only-of-type {\n",
              "        vertical-align: middle;\n",
              "    }\n",
              "\n",
              "    .dataframe tbody tr th {\n",
              "        vertical-align: top;\n",
              "    }\n",
              "\n",
              "    .dataframe thead th {\n",
              "        text-align: right;\n",
              "    }\n",
              "</style>\n",
              "<table border=\"1\" class=\"dataframe\">\n",
              "  <thead>\n",
              "    <tr style=\"text-align: right;\">\n",
              "      <th></th>\n",
              "      <th>a</th>\n",
              "      <th>b</th>\n",
              "      <th>c</th>\n",
              "      <th>d</th>\n",
              "    </tr>\n",
              "  </thead>\n",
              "  <tbody>\n",
              "    <tr>\n",
              "      <th>0</th>\n",
              "      <td>2.396715</td>\n",
              "      <td>0.644222</td>\n",
              "      <td>-1.367612</td>\n",
              "      <td>-0.304096</td>\n",
              "    </tr>\n",
              "    <tr>\n",
              "      <th>1</th>\n",
              "      <td>1.638101</td>\n",
              "      <td>0.503075</td>\n",
              "      <td>0.279436</td>\n",
              "      <td>-1.695750</td>\n",
              "    </tr>\n",
              "    <tr>\n",
              "      <th>2</th>\n",
              "      <td>-0.248447</td>\n",
              "      <td>-0.965358</td>\n",
              "      <td>-0.092849</td>\n",
              "      <td>0.377958</td>\n",
              "    </tr>\n",
              "    <tr>\n",
              "      <th>3</th>\n",
              "      <td>0.752560</td>\n",
              "      <td>-1.405674</td>\n",
              "      <td>-0.761006</td>\n",
              "      <td>-0.873254</td>\n",
              "    </tr>\n",
              "    <tr>\n",
              "      <th>4</th>\n",
              "      <td>0.111566</td>\n",
              "      <td>1.176586</td>\n",
              "      <td>0.582256</td>\n",
              "      <td>1.703160</td>\n",
              "    </tr>\n",
              "    <tr>\n",
              "      <th>5</th>\n",
              "      <td>-1.457982</td>\n",
              "      <td>-0.057332</td>\n",
              "      <td>-0.947328</td>\n",
              "      <td>-0.392169</td>\n",
              "    </tr>\n",
              "    <tr>\n",
              "      <th>6</th>\n",
              "      <td>0.443845</td>\n",
              "      <td>-0.684363</td>\n",
              "      <td>0.251397</td>\n",
              "      <td>0.416959</td>\n",
              "    </tr>\n",
              "    <tr>\n",
              "      <th>7</th>\n",
              "      <td>-1.503903</td>\n",
              "      <td>0.253747</td>\n",
              "      <td>0.075012</td>\n",
              "      <td>0.389397</td>\n",
              "    </tr>\n",
              "    <tr>\n",
              "      <th>8</th>\n",
              "      <td>0.813982</td>\n",
              "      <td>-1.089213</td>\n",
              "      <td>-1.199728</td>\n",
              "      <td>0.066891</td>\n",
              "    </tr>\n",
              "    <tr>\n",
              "      <th>9</th>\n",
              "      <td>-0.906949</td>\n",
              "      <td>-0.787402</td>\n",
              "      <td>1.546177</td>\n",
              "      <td>0.514235</td>\n",
              "    </tr>\n",
              "  </tbody>\n",
              "</table>\n",
              "</div>"
            ],
            "text/plain": [
              "          a         b         c         d\n",
              "0  2.396715  0.644222 -1.367612 -0.304096\n",
              "1  1.638101  0.503075  0.279436 -1.695750\n",
              "2 -0.248447 -0.965358 -0.092849  0.377958\n",
              "3  0.752560 -1.405674 -0.761006 -0.873254\n",
              "4  0.111566  1.176586  0.582256  1.703160\n",
              "5 -1.457982 -0.057332 -0.947328 -0.392169\n",
              "6  0.443845 -0.684363  0.251397  0.416959\n",
              "7 -1.503903  0.253747  0.075012  0.389397\n",
              "8  0.813982 -1.089213 -1.199728  0.066891\n",
              "9 -0.906949 -0.787402  1.546177  0.514235"
            ]
          },
          "metadata": {
            "tags": []
          },
          "execution_count": 3
        }
      ]
    },
    {
      "cell_type": "code",
      "metadata": {
        "colab": {
          "base_uri": "https://localhost:8080/",
          "height": 295
        },
        "id": "7KLERsCNn0hW",
        "outputId": "78f0382d-b73e-4827-dc1f-147a3644a615"
      },
      "source": [
        "df.describe()"
      ],
      "execution_count": 4,
      "outputs": [
        {
          "output_type": "execute_result",
          "data": {
            "text/html": [
              "<div>\n",
              "<style scoped>\n",
              "    .dataframe tbody tr th:only-of-type {\n",
              "        vertical-align: middle;\n",
              "    }\n",
              "\n",
              "    .dataframe tbody tr th {\n",
              "        vertical-align: top;\n",
              "    }\n",
              "\n",
              "    .dataframe thead th {\n",
              "        text-align: right;\n",
              "    }\n",
              "</style>\n",
              "<table border=\"1\" class=\"dataframe\">\n",
              "  <thead>\n",
              "    <tr style=\"text-align: right;\">\n",
              "      <th></th>\n",
              "      <th>a</th>\n",
              "      <th>b</th>\n",
              "      <th>c</th>\n",
              "      <th>d</th>\n",
              "    </tr>\n",
              "  </thead>\n",
              "  <tbody>\n",
              "    <tr>\n",
              "      <th>count</th>\n",
              "      <td>10.000000</td>\n",
              "      <td>10.000000</td>\n",
              "      <td>10.000000</td>\n",
              "      <td>10.000000</td>\n",
              "    </tr>\n",
              "    <tr>\n",
              "      <th>mean</th>\n",
              "      <td>0.203949</td>\n",
              "      <td>-0.241171</td>\n",
              "      <td>-0.163424</td>\n",
              "      <td>0.020333</td>\n",
              "    </tr>\n",
              "    <tr>\n",
              "      <th>std</th>\n",
              "      <td>1.278964</td>\n",
              "      <td>0.864168</td>\n",
              "      <td>0.907035</td>\n",
              "      <td>0.913983</td>\n",
              "    </tr>\n",
              "    <tr>\n",
              "      <th>min</th>\n",
              "      <td>-1.503903</td>\n",
              "      <td>-1.405674</td>\n",
              "      <td>-1.367612</td>\n",
              "      <td>-1.695750</td>\n",
              "    </tr>\n",
              "    <tr>\n",
              "      <th>25%</th>\n",
              "      <td>-0.742324</td>\n",
              "      <td>-0.920869</td>\n",
              "      <td>-0.900748</td>\n",
              "      <td>-0.370150</td>\n",
              "    </tr>\n",
              "    <tr>\n",
              "      <th>50%</th>\n",
              "      <td>0.277706</td>\n",
              "      <td>-0.370848</td>\n",
              "      <td>-0.008918</td>\n",
              "      <td>0.222425</td>\n",
              "    </tr>\n",
              "    <tr>\n",
              "      <th>75%</th>\n",
              "      <td>0.798626</td>\n",
              "      <td>0.440743</td>\n",
              "      <td>0.272426</td>\n",
              "      <td>0.410069</td>\n",
              "    </tr>\n",
              "    <tr>\n",
              "      <th>max</th>\n",
              "      <td>2.396715</td>\n",
              "      <td>1.176586</td>\n",
              "      <td>1.546177</td>\n",
              "      <td>1.703160</td>\n",
              "    </tr>\n",
              "  </tbody>\n",
              "</table>\n",
              "</div>"
            ],
            "text/plain": [
              "               a          b          c          d\n",
              "count  10.000000  10.000000  10.000000  10.000000\n",
              "mean    0.203949  -0.241171  -0.163424   0.020333\n",
              "std     1.278964   0.864168   0.907035   0.913983\n",
              "min    -1.503903  -1.405674  -1.367612  -1.695750\n",
              "25%    -0.742324  -0.920869  -0.900748  -0.370150\n",
              "50%     0.277706  -0.370848  -0.008918   0.222425\n",
              "75%     0.798626   0.440743   0.272426   0.410069\n",
              "max     2.396715   1.176586   1.546177   1.703160"
            ]
          },
          "metadata": {
            "tags": []
          },
          "execution_count": 4
        }
      ]
    },
    {
      "cell_type": "code",
      "metadata": {
        "colab": {
          "base_uri": "https://localhost:8080/",
          "height": 604
        },
        "id": "1H3mrMNMn-E5",
        "outputId": "c89fb977-e62d-41bb-ff6a-3a7bafee4c91"
      },
      "source": [
        "df.plot(kind='bar',figsize=(10,10))\n",
        "plt.title(\"Bar graph\")\n",
        "plt.show()"
      ],
      "execution_count": 8,
      "outputs": [
        {
          "output_type": "display_data",
          "data": {
            "image/png": "[encoded data removed]",
            "text/plain": [
              "<Figure size 720x720 with 1 Axes>"
            ]
          },
          "metadata": {
            "tags": [],
            "needs_background": "light"
          }
        }
      ]
    },
    {
      "cell_type": "code",
      "metadata": {
        "id": "LM00o5-doGJA"
      },
      "source": [
        ""
      ],
      "execution_count": null,
      "outputs": []
    }
  ]
}